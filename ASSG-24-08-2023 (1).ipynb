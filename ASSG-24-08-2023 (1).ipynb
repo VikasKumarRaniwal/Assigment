{
 "cells": [
  {
   "cell_type": "code",
   "execution_count": 102,
   "id": "12beabc1",
   "metadata": {},
   "outputs": [
    {
     "name": "stdout",
     "output_type": "stream",
     "text": [
      "enter your stringPython is a general-purpose, interpreted, high-level programming language popularly used for website development, data analytics and automation\n",
      "48\n"
     ]
    }
   ],
   "source": [
    "x = input('enter your string')\n",
    "i=0\n",
    "count = 0\n",
    "while(i<len(x)):\n",
    "    if(x[i]=='a' or x[i]=='e' or x[i]=='i' or x[i]=='o' or x[i]=='u' or x[i]=='A'or x[i]=='E' or x[i]=='I' or x[i]=='O' or x[i]=='U'):\n",
    "        count+=1\n",
    "    i+=1\n",
    "print(count)"
   ]
  },
  {
   "cell_type": "code",
   "execution_count": 122,
   "id": "eeeabbf6",
   "metadata": {},
   "outputs": [
    {
     "name": "stdout",
     "output_type": "stream",
     "text": [
      "Enter your stringtushar\n",
      "In the string a are present = 1\n",
      "In the string e are present = 0\n",
      "In the string i are present = 0\n",
      "In the string o are present = 0\n",
      "In the string u are present = 1\n"
     ]
    }
   ],
   "source": [
    "x = input(\"Enter your string\")\n",
    "t = 0\n",
    "a = 0\n",
    "e = 0\n",
    "i = 0\n",
    "o = 0\n",
    "u = 0\n",
    "count = 0\n",
    "while(t<len(x)):\n",
    "    if(x[t]=='a' or x[t]=='A'):\n",
    "        a+=1\n",
    "    elif(x[t]=='e' or x[t]=='E'):\n",
    "        e+=1\n",
    "    elif(x[t]=='i' or x[t]=='I'):\n",
    "        i+=1\n",
    "    elif(x[t]=='o' or x[t]=='O'):\n",
    "        o+=1\n",
    "    elif(x[t]=='u' or x[t]=='U'):\n",
    "        u+=1\n",
    "    t+=1\n",
    "print(\"In the string a are present =\",a)\n",
    "print(\"In the string e are present =\",e)\n",
    "print(\"In the string i are present =\",i)\n",
    "print(\"In the string o are present =\",o)\n",
    "print(\"In the string u are present =\",u)"
   ]
  },
  {
   "cell_type": "code",
   "execution_count": 134,
   "id": "21e9f27a",
   "metadata": {},
   "outputs": [
    {
     "name": "stdout",
     "output_type": "stream",
     "text": [
      "Enter your stringsdfg\n",
      "a and e not in the string\n"
     ]
    }
   ],
   "source": [
    "x = input(\"Enter your string\")\n",
    "counta = 0\n",
    "countb = 0\n",
    "i = 0\n",
    "while(i<len(x)):\n",
    "    if(x[i]=='a' or x[i]=='A' or x[i]=='e' or x[i]=='E'):\n",
    "        counta+=1\n",
    "        countb+=1\n",
    "    i+=1\n",
    "if(counta>0 and counte>0):\n",
    "    print('a and e in the string')\n",
    "    \n",
    "else:\n",
    "    print('a and e not in the string')\n",
    "    \n"
   ]
  },
  {
   "cell_type": "code",
   "execution_count": 150,
   "id": "7e0ca1a0",
   "metadata": {},
   "outputs": [
    {
     "name": "stdout",
     "output_type": "stream",
     "text": [
      "Enter the value for find area- length , Breadth, Hight , Radius \n",
      "Enter the length1\n",
      "Enter the breadth1\n",
      "Enter the hight1\n",
      "Enter 1 for triangel, enter 2 for square , enter 3 for rectangle , enter 4 for circle\n",
      "Enter2\n",
      "Enter the side5\n",
      "area of square 25.0\n"
     ]
    }
   ],
   "source": [
    "print('Enter the value for find area- length , Breadth, Hight , Radius ')\n",
    "l = float(input('Enter the length'))\n",
    "b = float(input(\"Enter the breadth\"))\n",
    "h = float(input('Enter the hight'))\n",
    "\n",
    "print('Enter 1 for triangel, enter 2 for square , enter 3 for rectangle , enter 4 for circle')\n",
    "ar = int(input(\"Enter\"))\n",
    "if(ar==1):\n",
    "    area = 0.5*b*h\n",
    "    print('area of triangel',area)\n",
    "elif(ar==2):\n",
    "    s= float(input('Enter the side'))\n",
    "    area = s*s\n",
    "    print('area of square',area)\n",
    "elif(ar == 3): \n",
    "    area = b*h\n",
    "    print(\"area of rectangle\",area)\n",
    "elif(ar==4):\n",
    "    r = float(input('Enter the radius'))\n",
    "    area = 3.14*r*r\n",
    "    print(\"area of circel\",area)\n"
   ]
  },
  {
   "cell_type": "code",
   "execution_count": null,
   "id": "b44d673c",
   "metadata": {},
   "outputs": [],
   "source": []
  }
 ],
 "metadata": {
  "kernelspec": {
   "display_name": "Python 3 (ipykernel)",
   "language": "python",
   "name": "python3"
  },
  "language_info": {
   "codemirror_mode": {
    "name": "ipython",
    "version": 3
   },
   "file_extension": ".py",
   "mimetype": "text/x-python",
   "name": "python",
   "nbconvert_exporter": "python",
   "pygments_lexer": "ipython3",
   "version": "3.9.13"
  }
 },
 "nbformat": 4,
 "nbformat_minor": 5
}
